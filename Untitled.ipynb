{
 "cells": [
  {
   "cell_type": "code",
   "execution_count": 1,
   "id": "b4a6053a",
   "metadata": {},
   "outputs": [],
   "source": [
    "import pandas as pd\n",
    "import numpy as np\n",
    "import matplotlib.pyplot as plt\n",
    "%matplotlib inline"
   ]
  },
  {
   "cell_type": "code",
   "execution_count": 140,
   "id": "3123808b",
   "metadata": {},
   "outputs": [
    {
     "name": "stdout",
     "output_type": "stream",
     "text": [
      "Mean Value of 2020 Distribution: 62.97658862876254\n"
     ]
    }
   ],
   "source": [
    "# Load the 2020input4 data from the CSV file\n",
    "df = pd.read_csv('2020input4.csv', header=None)\n",
    "\n",
    "# Split the values in the first column into individual values\n",
    "df[[0, 1, 2]] = df[0].str.split(expand=True)\n",
    "\n",
    "# Convert the string values to integers\n",
    "df[[0, 1, 2]] = df[[0, 1, 2]].astype(int)\n",
    "\n",
    "# Calculate the midpoint of each interval\n",
    "df['Midpoint'] = (df[0] + df[1]) / 2\n",
    "\n",
    "# Calculate the sum of the products of midpoint and frequency\n",
    "sum_products = (df['Midpoint'] * df[2]).sum()\n",
    "\n",
    "# Calculate the sum of frequencies\n",
    "sum_freq = df[2].sum()\n",
    "\n",
    "# Calculate the arithmetic mean\n",
    "arithmetic_mean = sum_products / sum_freq\n",
    "\n",
    "# Print the arithmetic mean\n",
    "print(\"Mean Value of 2020 Distribution:\", arithmetic_mean)"
   ]
  },
  {
   "cell_type": "code",
   "execution_count": 141,
   "id": "ba861ed4",
   "metadata": {},
   "outputs": [
    {
     "name": "stdout",
     "output_type": "stream",
     "text": [
      "Standard Deviation of 2020 Distribution: 19.376225821617094\n"
     ]
    }
   ],
   "source": [
    "# Calculate the squared difference between each midpoint and the mean\n",
    "squared_diff = ((df['Midpoint'] - df['Midpoint'].mean()) ** 2) * df[2]\n",
    "\n",
    "# Calculate the mean of the squared differences\n",
    "mean_squared_diff = squared_diff.sum() / df[2].sum()\n",
    "\n",
    "# Calculate the standard deviation\n",
    "standard_deviation = np.sqrt(mean_squared_diff)\n",
    "\n",
    "# Print the standard deviation\n",
    "print(\"Standard Deviation of 2020 Distribution:\", standard_deviation)"
   ]
  },
  {
   "cell_type": "code",
   "execution_count": 142,
   "id": "431f6e26",
   "metadata": {},
   "outputs": [
    {
     "name": "stdout",
     "output_type": "stream",
     "text": [
      "Median Grade in the 2024 Exam: 59.0\n"
     ]
    }
   ],
   "source": [
    "# Calculating the V value which is median grade in the 2024 exam\n",
    "\n",
    "# Extract grades from DataFrame\n",
    "grades = df2[0]\n",
    "\n",
    "# Sort the grades\n",
    "sorted_grades = sorted(grades)\n",
    "\n",
    "# Calculate the number of grades\n",
    "num_grades = len(sorted_grades)\n",
    "\n",
    "# Check if the number of grades is odd or even\n",
    "if num_grades % 2 == 0:\n",
    "    # If even, calculate the average of the two middle values\n",
    "    middle_idx_1 = num_grades // 2 - 1\n",
    "    middle_idx_2 = num_grades // 2\n",
    "    median_grade = (sorted_grades[middle_idx_1] + sorted_grades[middle_idx_2]) / 2\n",
    "else:\n",
    "    # If odd, take the middle value\n",
    "    middle_idx = num_grades // 2\n",
    "    median_grade = sorted_grades[middle_idx]\n",
    "\n",
    "print(\"Median Grade in the 2024 Exam:\", median_grade)"
   ]
  },
  {
   "cell_type": "code",
   "execution_count": 153,
   "id": "364e2f6b",
   "metadata": {},
   "outputs": [
    {
     "data": {
      "text/html": [
       "<div>\n",
       "<style scoped>\n",
       "    .dataframe tbody tr th:only-of-type {\n",
       "        vertical-align: middle;\n",
       "    }\n",
       "\n",
       "    .dataframe tbody tr th {\n",
       "        vertical-align: top;\n",
       "    }\n",
       "\n",
       "    .dataframe thead th {\n",
       "        text-align: right;\n",
       "    }\n",
       "</style>\n",
       "<table border=\"1\" class=\"dataframe\">\n",
       "  <thead>\n",
       "    <tr style=\"text-align: right;\">\n",
       "      <th></th>\n",
       "      <th>0</th>\n",
       "    </tr>\n",
       "  </thead>\n",
       "  <tbody>\n",
       "    <tr>\n",
       "      <th>0</th>\n",
       "      <td>64</td>\n",
       "    </tr>\n",
       "    <tr>\n",
       "      <th>1</th>\n",
       "      <td>13</td>\n",
       "    </tr>\n",
       "    <tr>\n",
       "      <th>2</th>\n",
       "      <td>42</td>\n",
       "    </tr>\n",
       "    <tr>\n",
       "      <th>3</th>\n",
       "      <td>34</td>\n",
       "    </tr>\n",
       "    <tr>\n",
       "      <th>4</th>\n",
       "      <td>32</td>\n",
       "    </tr>\n",
       "    <tr>\n",
       "      <th>...</th>\n",
       "      <td>...</td>\n",
       "    </tr>\n",
       "    <tr>\n",
       "      <th>291</th>\n",
       "      <td>87</td>\n",
       "    </tr>\n",
       "    <tr>\n",
       "      <th>292</th>\n",
       "      <td>88</td>\n",
       "    </tr>\n",
       "    <tr>\n",
       "      <th>293</th>\n",
       "      <td>82</td>\n",
       "    </tr>\n",
       "    <tr>\n",
       "      <th>294</th>\n",
       "      <td>91</td>\n",
       "    </tr>\n",
       "    <tr>\n",
       "      <th>295</th>\n",
       "      <td>85</td>\n",
       "    </tr>\n",
       "  </tbody>\n",
       "</table>\n",
       "<p>296 rows × 1 columns</p>\n",
       "</div>"
      ],
      "text/plain": [
       "      0\n",
       "0    64\n",
       "1    13\n",
       "2    42\n",
       "3    34\n",
       "4    32\n",
       "..   ..\n",
       "291  87\n",
       "292  88\n",
       "293  82\n",
       "294  91\n",
       "295  85\n",
       "\n",
       "[296 rows x 1 columns]"
      ]
     },
     "execution_count": 153,
     "metadata": {},
     "output_type": "execute_result"
    }
   ],
   "source": [
    "# Second dataframe\n",
    "df2 = pd.read_csv('2024input4.csv', header=None)\n",
    "df2"
   ]
  },
  {
   "cell_type": "code",
   "execution_count": 154,
   "id": "1a5fe1f8",
   "metadata": {},
   "outputs": [],
   "source": [
    "# Calculate mean and standard deviation for the second dataset (2024)\n",
    "mean2 = df2[0].sum() / len(df2)\n",
    "std_dev2 = ((df2[0] - mean2) ** 2).sum() / len(df2)\n",
    "std_dev2 = std_dev2 ** 0.5"
   ]
  },
  {
   "cell_type": "code",
   "execution_count": 157,
   "id": "de3556e8",
   "metadata": {},
   "outputs": [
    {
     "name": "stdout",
     "output_type": "stream",
     "text": [
      "Mean Value of 2024 Distribution: 59.773648648648646\n",
      "\n",
      "Standard Deviation of 2024 Distribution: 11.93306705713438\n"
     ]
    }
   ],
   "source": [
    "# Print the arithmetic mean\n",
    "print(\"Mean Value of 2024 Distribution:\", mean2)\n",
    "print()\n",
    "print(\"Standard Deviation of 2024 Distribution:\", std_dev2)"
   ]
  },
  {
   "cell_type": "code",
   "execution_count": 152,
   "id": "7bca4960",
   "metadata": {},
   "outputs": [
    {
     "name": "stdout",
     "output_type": "stream",
     "text": [
      "Median Grade in the 2024 Exam: 59.0\n"
     ]
    },
    {
     "data": {
      "image/png": "[encoded data removed]",
      "text/plain": [
       "<Figure size 1000x600 with 1 Axes>"
      ]
     },
     "metadata": {},
     "output_type": "display_data"
    }
   ],
   "source": [
    "import pandas as pd\n",
    "import matplotlib.pyplot as plt\n",
    "\n",
    "# Load the data from the CSV files\n",
    "df = pd.read_csv('2020input4.csv', header=None)\n",
    "df2 = pd.read_csv('2024input4.csv', header=None)\n",
    "\n",
    "# Split the values in the first column into individual values for df\n",
    "df[[0, 1, 2]] = df[0].str.split(expand=True)\n",
    "df[[0, 1, 2]] = df[[0, 1, 2]].astype(int)\n",
    "df['Midpoint'] = (df[0] + df[1]) / 2\n",
    "\n",
    "# Calculate mean and standard deviation for the first dataset (2020)\n",
    "mean1 = (df['Midpoint'] * df[2]).sum() / df[2].sum()\n",
    "std_dev1 = ((df['Midpoint'] - mean1) ** 2 * df[2]).sum() / df[2].sum()\n",
    "std_dev1 = std_dev1 ** 0.5\n",
    "\n",
    "# Calculate mean and standard deviation for the second dataset (2024)\n",
    "mean2 = df2[0].sum() / len(df2)\n",
    "std_dev2 = ((df2[0] - mean2) ** 2).sum() / len(df2)\n",
    "std_dev2 = std_dev2 ** 0.5\n",
    "\n",
    "# Calculate the V value (median grade) for the second dataset (2024)\n",
    "\n",
    "# Extract grades from DataFrame\n",
    "grades = df2[0]\n",
    "\n",
    "# Sort the grades\n",
    "sorted_grades = sorted(grades)\n",
    "\n",
    "# Calculate the number of grades\n",
    "num_grades = len(sorted_grades)\n",
    "\n",
    "# Check if the number of grades is odd or even\n",
    "if num_grades % 2 == 0:\n",
    "    # If even, calculate the average of the two middle values\n",
    "    middle_idx_1 = num_grades // 2 - 1\n",
    "    middle_idx_2 = num_grades // 2\n",
    "    median_grade = (sorted_grades[middle_idx_1] + sorted_grades[middle_idx_2]) / 2\n",
    "else:\n",
    "    # If odd, take the middle value\n",
    "    middle_idx = num_grades // 2\n",
    "    median_grade = sorted_grades[middle_idx]\n",
    "\n",
    "# print(\"Median Grade in the 2024 Exam:\", median_grade)\n",
    "\n",
    "# Plotting the histograms\n",
    "plt.figure(figsize=(10, 6))\n",
    "\n",
    "# Plot histogram for the first dataset\n",
    "plt.hist(df['Midpoint'], bins=4, weights=df[2], edgecolor='black', label='2020 Exam Grades', alpha=0.7)\n",
    "\n",
    "# Plot histogram for the second dataset\n",
    "plt.hist(df2[0], bins=4, edgecolor='black', label='2024 Exam Grades', alpha=0.7)\n",
    "\n",
    "# Set x-axis label\n",
    "plt.xlabel('Data Points')\n",
    "\n",
    "# Set y-axis label\n",
    "plt.ylabel('Frequency')\n",
    "\n",
    "# Set plot title\n",
    "plt.title('Histogram Comparison')\n",
    "\n",
    "# Show legend\n",
    "plt.legend()\n",
    "\n",
    "# Show grid\n",
    "plt.grid(True)\n",
    "\n",
    "# Add text annotations for mean and standard deviation of both distributions\n",
    "plt.text(0.05, 0.9, f'Mean (2020): {mean1:.2f}', transform=plt.gca().transAxes)\n",
    "plt.text(0.05, 0.85, f'STD (2020): {std_dev1:.2f}', transform=plt.gca().transAxes)\n",
    "plt.text(0.05, 0.8, f'Mean (2024): {mean2:.2f}', transform=plt.gca().transAxes)\n",
    "plt.text(0.05, 0.75, f'STD (2024): {std_dev2:.2f}', transform=plt.gca().transAxes)\n",
    "plt.text(0.05, 0.7, f'V value (2024): {median_grade:.2f}', transform=plt.gca().transAxes)\n",
    "\n",
    "# Show plot\n",
    "plt.show()\n"
   ]
  },
  {
   "cell_type": "code",
   "execution_count": null,
   "id": "1a17611c",
   "metadata": {},
   "outputs": [],
   "source": []
  }
 ],
 "metadata": {
  "kernelspec": {
   "display_name": "Python 3 (ipykernel)",
   "language": "python",
   "name": "python3"
  },
  "language_info": {
   "codemirror_mode": {
    "name": "ipython",
    "version": 3
   },
   "file_extension": ".py",
   "mimetype": "text/x-python",
   "name": "python",
   "nbconvert_exporter": "python",
   "pygments_lexer": "ipython3",
   "version": "3.11.3"
  }
 },
 "nbformat": 4,
 "nbformat_minor": 5
}
